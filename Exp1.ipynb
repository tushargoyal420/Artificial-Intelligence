{
  "nbformat": 4,
  "nbformat_minor": 0,
  "metadata": {
    "colab": {
      "name": "Exp1.ipynb",
      "provenance": [],
      "collapsed_sections": []
    },
    "kernelspec": {
      "name": "python3",
      "display_name": "Python 3"
    }
  },
  "cells": [
    {
      "cell_type": "code",
      "metadata": {
        "id": "ii-GaDPEt1iL",
        "colab": {
          "base_uri": "https://localhost:8080/",
          "height": 34
        },
        "outputId": "57bf5f4c-61bb-44b5-e9d7-069b546d8f33"
      },
      "source": [
        "from google.colab import drive\n",
        "drive.mount('/content/drive')\n"
      ],
      "execution_count": null,
      "outputs": [
        {
          "output_type": "stream",
          "text": [
            "Mounted at /content/drive\n"
          ],
          "name": "stdout"
        }
      ]
    },
    {
      "cell_type": "code",
      "metadata": {
        "id": "amPrIrKBvKK7"
      },
      "source": [
        "import pandas as pd\n",
        "import numpy as np"
      ],
      "execution_count": null,
      "outputs": []
    },
    {
      "cell_type": "code",
      "metadata": {
        "id": "mdreD0yVvfFU",
        "colab": {
          "base_uri": "https://localhost:8080/",
          "height": 255
        },
        "outputId": "6d0919aa-8f21-4740-c981-e9b551138144"
      },
      "source": [
        "df = pd.read_csv('/content/drive/My Drive/heart.csv', encoding= 'unicode_escape')\n",
        "print(df)"
      ],
      "execution_count": null,
      "outputs": [
        {
          "output_type": "stream",
          "text": [
            "     ï»¿age  sex  cp  trestbps  chol  ...  oldpeak  slope  ca  thal  target\n",
            "0        63    1   3       145   233  ...      2.3      0   0     1       1\n",
            "1        37    1   2       130   250  ...      3.5      0   0     2       1\n",
            "2        41    0   1       130   204  ...      1.4      2   0     2       1\n",
            "3        56    1   1       120   236  ...      0.8      2   0     2       1\n",
            "4        57    0   0       120   354  ...      0.6      2   0     2       1\n",
            "..      ...  ...  ..       ...   ...  ...      ...    ...  ..   ...     ...\n",
            "298      57    0   0       140   241  ...      0.2      1   0     3       0\n",
            "299      45    1   3       110   264  ...      1.2      1   0     3       0\n",
            "300      68    1   0       144   193  ...      3.4      1   2     3       0\n",
            "301      57    1   0       130   131  ...      1.2      1   1     3       0\n",
            "302      57    0   1       130   236  ...      0.0      1   1     2       0\n",
            "\n",
            "[303 rows x 14 columns]\n"
          ],
          "name": "stdout"
        }
      ]
    },
    {
      "cell_type": "code",
      "metadata": {
        "id": "RiRMJQubwWR6",
        "colab": {
          "base_uri": "https://localhost:8080/",
          "height": 34
        },
        "outputId": "d6a64819-ce2e-44f5-96b3-0c8f5051a6ee"
      },
      "source": [
        "print(list(df))\n"
      ],
      "execution_count": null,
      "outputs": [
        {
          "output_type": "stream",
          "text": [
            "['ï»¿age', 'sex', 'cp', 'trestbps', 'chol', 'fbs', 'restecg', 'thalach', 'exang', 'oldpeak', 'slope', 'ca', 'thal', 'target']\n"
          ],
          "name": "stdout"
        }
      ]
    },
    {
      "cell_type": "code",
      "metadata": {
        "id": "fI6oa6oiw8Vt",
        "colab": {
          "base_uri": "https://localhost:8080/",
          "height": 272
        },
        "outputId": "2044fb86-5b25-4fca-ed5a-03b531c5bc59"
      },
      "source": [
        "print(df.dtypes)"
      ],
      "execution_count": null,
      "outputs": [
        {
          "output_type": "stream",
          "text": [
            "ï»¿age        int64\n",
            "sex           int64\n",
            "cp            int64\n",
            "trestbps      int64\n",
            "chol          int64\n",
            "fbs           int64\n",
            "restecg       int64\n",
            "thalach       int64\n",
            "exang         int64\n",
            "oldpeak     float64\n",
            "slope         int64\n",
            "ca            int64\n",
            "thal          int64\n",
            "target        int64\n",
            "dtype: object\n"
          ],
          "name": "stdout"
        }
      ]
    }
  ]
}